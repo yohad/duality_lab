{
 "cells": [
  {
   "cell_type": "code",
   "execution_count": 66,
   "metadata": {},
   "outputs": [],
   "source": [
    "import matplotlib.pyplot as plt\n",
    "import numpy as np\n",
    "from glob import glob\n",
    "from pandas import read_csv"
   ]
  },
  {
   "cell_type": "code",
   "execution_count": 67,
   "metadata": {},
   "outputs": [],
   "source": [
    "def n_to_lambda(n):\n",
    "    A = -49852133\n",
    "    B = 86092018.9\n",
    "    C = -29983328.35\n",
    "    D = -14354236.56\n",
    "    E = 835425.05\n",
    "    F = 5647432.02\n",
    "    G = 1863438.86\n",
    "    H = -2719226.18\n",
    "    I = 574967.82\n",
    "    return 3000 / np.sqrt(np.polyval([I, H, G, F, E, D, C, B, A], n))\n",
    "\n",
    "def rel_angle_to_wavelength(rel_angle):\n",
    "    init = 78.388 # +- 0.083\n",
    "    angle = (init - rel_angle) / 376.761 * 2 * np.pi\n",
    "    n = np.sqrt(np.power(2 / np.sqrt(3) * np.sin(angle) + 1/2, 2) + 3/4)\n",
    "    \n",
    "    wavelength = n_to_lambda(n) * 1e-9\n",
    "    return wavelength\n",
    "\n"
   ]
  },
  {
   "cell_type": "code",
   "execution_count": 68,
   "metadata": {},
   "outputs": [
    {
     "data": {
      "image/png": "[encoded data removed]",
      "text/plain": [
       "<Figure size 432x288 with 1 Axes>"
      ]
     },
     "metadata": {
      "needs_background": "light"
     },
     "output_type": "display_data"
    }
   ],
   "source": [
    "\n",
    "n = np.linspace(1.68, 1.8, 1000)\n",
    "wl = n_to_lambda(n)\n",
    "# plt.plot(n, wl)\n",
    "plt.plot(n[1:], np.diff(wl)/np.diff(n))\n",
    "plt.show()"
   ]
  },
  {
   "cell_type": "code",
   "execution_count": 69,
   "metadata": {},
   "outputs": [
    {
     "name": "stdout",
     "output_type": "stream",
     "text": [
      "2.925e-03\n"
     ]
    }
   ],
   "source": [
    "print(f\"{rel_angle_to_wavelength(20.1) * 1843.30:.3e}\")"
   ]
  },
  {
   "cell_type": "code",
   "execution_count": 70,
   "metadata": {},
   "outputs": [],
   "source": [
    "def get_temperature(V, I):\n",
    "    rho = 5.65 * (V / I  - 0.321) / 1.272\n",
    "    T = 103+38.1*rho-0.095*rho**2 +2.48e-4*rho**3\n",
    "    return T"
   ]
  },
  {
   "cell_type": "code",
   "execution_count": 71,
   "metadata": {},
   "outputs": [
    {
     "name": "stdout",
     "output_type": "stream",
     "text": [
      "Max wavelength: 1.715e-06\n",
      "Temperature: 1487.168\n",
      "Wien: 2.550e-03\n"
     ]
    },
    {
     "data": {
      "image/png": "[encoded data removed]",
      "text/plain": [
       "<Figure size 432x288 with 1 Axes>"
      ]
     },
     "metadata": {
      "needs_background": "light"
     },
     "output_type": "display_data"
    }
   ],
   "source": [
    "filepath = \"data\\\\3_069v_0_330A.csv\"\n",
    "filename = filepath.split(\"\\\\\")[-1]\n",
    "V = float(filename[0:filename.find(\"v\")].replace(\"_\", \".\"))\n",
    "I = float(filename[filename.find(\"v_\")+2:filename.find(\"A\")].replace(\"_\", \".\"))\n",
    "\n",
    "data = read_csv(filepath)\n",
    "angle = data.iloc[1:, 1].to_numpy()\n",
    "intensity = data.iloc[1:, -1].to_numpy()\n",
    "\n",
    "init = 78.388 # +- 0.083\n",
    "angle = (init - angle) / 376.761 * 2 * np.pi\n",
    "n = np.sqrt(np.power(2 / np.sqrt(3) * np.sin(angle) + 1/2, 2) + 3/4)\n",
    "n = n[np.where(n > 1.68)]\n",
    "intensity = intensity[np.where(n > 1.68)]\n",
    "wavelength = n_to_lambda(n) * 1e-9\n",
    "plt.scatter(wavelength, intensity)\n",
    "\n",
    "max_wavelength = wavelength[np.argmax(intensity)]\n",
    "print(f\"Max wavelength: {max_wavelength:.3e}\")\n",
    "temperature = get_temperature(V, I)\n",
    "print(f\"Temperature: {temperature:.3f}\")\n",
    "print(f\"Wien: {temperature * max_wavelength:.3e}\")"
   ]
  },
  {
   "cell_type": "code",
   "execution_count": 72,
   "metadata": {},
   "outputs": [
    {
     "name": "stdout",
     "output_type": "stream",
     "text": [
      "3_069v_0_330A.csv\n",
      "temperature = 1.487e+03\n",
      "max_wavelength = 1.715e-06\n",
      "wien = 2.550e-03\n",
      "------\n"
     ]
    },
    {
     "name": "stdout",
     "output_type": "stream",
     "text": [
      "3_247v_0_341A.csv\n",
      "temperature = 1.518e+03\n",
      "max_wavelength = 1.854e-06\n",
      "wien = 2.815e-03\n",
      "------\n",
      "4_579v_0_413A.csv\n",
      "temperature = 1.735e+03\n",
      "max_wavelength = 1.863e-06\n",
      "wien = 3.232e-03\n",
      "------\n",
      "4_732v_0_422A.csv\n",
      "temperature = 1.752e+03\n",
      "max_wavelength = 1.513e-06\n",
      "wien = 2.650e-03\n",
      "------\n",
      "6_322v_0_496A.csv\n",
      "temperature = 1.958e+03\n",
      "max_wavelength = 1.596e-06\n",
      "wien = 3.125e-03\n",
      "------\n",
      "6_526v_0_505A.csv\n",
      "temperature = 1.981e+03\n",
      "max_wavelength = 1.624e-06\n",
      "wien = 3.218e-03\n",
      "------\n",
      "7_056v_0_528A.csv\n",
      "temperature = 2.040e+03\n",
      "max_wavelength = 1.311e-06\n",
      "wien = 2.673e-03\n",
      "------\n",
      "7_262v_0_535A.csv\n",
      "temperature = 2.067e+03\n",
      "max_wavelength = 1.654e-06\n",
      "wien = 3.419e-03\n",
      "------\n",
      "9_029v_0_605A.csv\n",
      "temperature = 2.242e+03\n",
      "max_wavelength = 6.309e-07\n",
      "wien = 1.415e-03\n",
      "------\n"
     ]
    }
   ],
   "source": [
    "filepaths = glob(\"data/*\")\n",
    "max_wavelengths = []\n",
    "temperatures = []\n",
    "all_rad = []\n",
    "all_wav = []\n",
    "\n",
    "for i, filepath in enumerate(filepaths):\n",
    "    filename = filepath.split(\"\\\\\")[-1]\n",
    "    V = float(filename[0:filename.find(\"v\")].replace(\"_\", \".\"))\n",
    "    I = float(filename[filename.find(\"v_\")+2:filename.find(\"A\")].replace(\"_\", \".\"))\n",
    "    \n",
    "    data = read_csv(filepath)\n",
    "    angle = data.iloc[1:, 1].to_numpy()\n",
    "    intensity = data.iloc[1:, -1].to_numpy()\n",
    "\n",
    "    init = 78.388 # +- 0.083\n",
    "    angle = (init - angle) / 376.761 * 2 * np.pi\n",
    "    n = np.sqrt(np.power(2 / np.sqrt(3) * np.sin(angle) + 1/2, 2) + 3/4)\n",
    "    n = n[np.where(n > 1.68)]\n",
    "    intensity = intensity[np.where(n > 1.68)]\n",
    "    wavelength = n_to_lambda(n) * 1e-9\n",
    "    all_rad.append([intensity])\n",
    "    all_wav.append(wavelength)\n",
    "    \n",
    "    max_angle = angle[np.argmax(intensity)]\n",
    "    # print(max_angle, filepath)\n",
    "    # plt.figure(f'i')\n",
    "    # plt.scatter(wave, intensity)\n",
    "    # plt.vlines(x=rel_angle_to_wavelength(max_angle), ymin=0, ymax=max_intensity, color='red')\n",
    "    # plt.show()\n",
    "\n",
    "    max_wavelengths.append(wavelength[np.argmax(intensity)])\n",
    "    temperatures.append(get_temperature(V, I))\n",
    "    print(filename)\n",
    "    print(f\"temperature = {temperatures[-1]:.3e}\")\n",
    "    print(f\"max_wavelength = {max_wavelengths[-1]:.3e}\")\n",
    "    print(f\"wien = {temperatures[-1] * max_wavelengths[-1]:.3e}\")\n",
    "    print(\"------\")\n",
    "temperatures = np.array(temperatures)\n",
    "max_wavelengths = np.array(max_wavelengths)\n"
   ]
  },
  {
   "cell_type": "code",
   "execution_count": 73,
   "metadata": {},
   "outputs": [],
   "source": [
    "def calc_area(x, y):\n",
    "    y_av = np.array([(y[i] + y[i+1])/2 for i in range(len(y) - 1)])\n",
    "    dx = np.diff(x)\n",
    "    return y_av @ dx"
   ]
  },
  {
   "cell_type": "code",
   "execution_count": 74,
   "metadata": {},
   "outputs": [
    {
     "name": "stdout",
     "output_type": "stream",
     "text": [
      "140 140\n",
      "3.778881890614975e-06\n",
      "119 119\n",
      "2.9549615037127e-06\n",
      "162 162\n",
      "6.0206610766373276e-06\n",
      "304 304\n",
      "6.181014803605787e-06\n",
      "260 260\n",
      "1.0356471518670087e-05\n",
      "136 136\n",
      "1.3356295022042177e-05\n",
      "151 151\n",
      "1.7150155211989478e-05\n",
      "151 151\n",
      "1.6193545851150367e-05\n",
      "332 332\n",
      "nan\n"
     ]
    }
   ],
   "source": [
    "areas = []\n",
    "for l, r in zip(all_wav, all_rad):\n",
    "    a = calc_area(l, r[0])\n",
    "    areas.append(a)"
   ]
  },
  {
   "cell_type": "code",
   "execution_count": 75,
   "metadata": {},
   "outputs": [
    {
     "name": "stdout",
     "output_type": "stream",
     "text": [
      "3.147e-03 x+-1.889e-07\n"
     ]
    },
    {
     "data": {
      "text/plain": [
       "<matplotlib.legend.Legend at 0x279f221f6d0>"
      ]
     },
     "execution_count": 75,
     "metadata": {},
     "output_type": "execute_result"
    },
    {
     "data": {
      "image/png": "[encoded data removed]",
      "text/plain": [
       "<Figure size 720x432 with 1 Axes>"
      ]
     },
     "metadata": {
      "needs_background": "light"
     },
     "output_type": "display_data"
    }
   ],
   "source": [
    "[a, b] = np.polyfit(1 / temperatures, max_wavelengths, 1)\n",
    "plt.figure('', figsize=(10, 6))\n",
    "print(f\"{a:.3e} x+{b:.3e}\")\n",
    "ts = np.linspace(1 / temperatures.min(), 1 / temperatures.max(), 100)\n",
    "plt.title(f'$\\lambda_m$ vs temperature')\n",
    "plt.xlabel('$\\\\frac{1}{T}$ [$\\\\frac{1}{K}$]')\n",
    "plt.ylabel(f'$\\lambda_m$ [nm]')\n",
    "plt.plot(ts, 10**9 *(a * ts + b))\n",
    "plt.scatter(1 / temperatures, 10**9 * max_wavelengths, color=\"red\")\n",
    "plt.plot(ts, 2.9e-3 * ts*10**9, color=\"green\")\n",
    "plt.grid()\n",
    "plt.legend([\"fit\", \"data\", \"theoretical\"])"
   ]
  },
  {
   "cell_type": "code",
   "execution_count": 76,
   "metadata": {},
   "outputs": [
    {
     "name": "stdout",
     "output_type": "stream",
     "text": [
      "Relative error: 8.5%\n"
     ]
    }
   ],
   "source": [
    "rel_err = np.abs(a - 2.9e-3) / 2.9e-3\n",
    "print(f\"Relative error: {rel_err * 100:.1f}%\")"
   ]
  },
  {
   "cell_type": "code",
   "execution_count": 82,
   "metadata": {},
   "outputs": [
    {
     "data": {
      "text/plain": [
       "<matplotlib.legend.Legend at 0x279f224f340>"
      ]
     },
     "execution_count": 82,
     "metadata": {},
     "output_type": "execute_result"
    },
    {
     "data": {
      "image/png": "[encoded data removed]",
      "text/plain": [
       "<Figure size 720x432 with 1 Axes>"
      ]
     },
     "metadata": {
      "needs_background": "light"
     },
     "output_type": "display_data"
    }
   ],
   "source": [
    "temperatures, areas = temperatures[:-1], areas[:-1]\n",
    "plt.figure('t', figsize=(10, 6))\n",
    "[a, b] = np.polyfit(temperatures**4, areas, deg=1)\n",
    "plt.plot(temperatures**4, areas, 'o', label='data')\n",
    "plt.plot(temperatures**4, a*temperatures**4 + b, label='fit')\n",
    "plt.xlabel('$T^4$ [$K^4$]')\n",
    "plt.ylabel('total radiation [%]')\n",
    "plt.title('Total radiation vs temperature')\n",
    "plt.grid()\n",
    "plt.legend()"
   ]
  },
  {
   "cell_type": "code",
   "execution_count": null,
   "metadata": {},
   "outputs": [],
   "source": []
  }
 ],
 "metadata": {
  "kernelspec": {
   "display_name": "base",
   "language": "python",
   "name": "python3"
  },
  "language_info": {
   "codemirror_mode": {
    "name": "ipython",
    "version": 3
   },
   "file_extension": ".py",
   "mimetype": "text/x-python",
   "name": "python",
   "nbconvert_exporter": "python",
   "pygments_lexer": "ipython3",
   "version": "3.10.9"
  }
 },
 "nbformat": 4,
 "nbformat_minor": 2
}
